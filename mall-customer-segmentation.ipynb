{
 "cells": [
  {
   "cell_type": "code",
   "execution_count": 1,
   "id": "a9382dcf",
   "metadata": {
    "_cell_guid": "b1076dfc-b9ad-4769-8c92-a6c4dae69d19",
    "_uuid": "8f2839f25d086af736a60e9eeb907d3b93b6e0e5",
    "execution": {
     "iopub.execute_input": "2024-01-31T03:08:18.017540Z",
     "iopub.status.busy": "2024-01-31T03:08:18.016978Z",
     "iopub.status.idle": "2024-01-31T03:08:20.453920Z",
     "shell.execute_reply": "2024-01-31T03:08:20.453077Z"
    },
    "papermill": {
     "duration": 2.447201,
     "end_time": "2024-01-31T03:08:20.456540",
     "exception": false,
     "start_time": "2024-01-31T03:08:18.009339",
     "status": "completed"
    },
    "tags": []
   },
   "outputs": [
    {
     "data": {
      "text/html": [
       "<div>\n",
       "<style scoped>\n",
       "    .dataframe tbody tr th:only-of-type {\n",
       "        vertical-align: middle;\n",
       "    }\n",
       "\n",
       "    .dataframe tbody tr th {\n",
       "        vertical-align: top;\n",
       "    }\n",
       "\n",
       "    .dataframe thead th {\n",
       "        text-align: right;\n",
       "    }\n",
       "</style>\n",
       "<table border=\"1\" class=\"dataframe\">\n",
       "  <thead>\n",
       "    <tr style=\"text-align: right;\">\n",
       "      <th></th>\n",
       "      <th>CustomerID</th>\n",
       "      <th>Gender</th>\n",
       "      <th>Age</th>\n",
       "      <th>Annual Income (k$)</th>\n",
       "      <th>Spending Score (1-100)</th>\n",
       "    </tr>\n",
       "  </thead>\n",
       "  <tbody>\n",
       "    <tr>\n",
       "      <th>0</th>\n",
       "      <td>1</td>\n",
       "      <td>Male</td>\n",
       "      <td>19</td>\n",
       "      <td>15</td>\n",
       "      <td>39</td>\n",
       "    </tr>\n",
       "    <tr>\n",
       "      <th>1</th>\n",
       "      <td>2</td>\n",
       "      <td>Male</td>\n",
       "      <td>21</td>\n",
       "      <td>15</td>\n",
       "      <td>81</td>\n",
       "    </tr>\n",
       "    <tr>\n",
       "      <th>2</th>\n",
       "      <td>3</td>\n",
       "      <td>Female</td>\n",
       "      <td>20</td>\n",
       "      <td>16</td>\n",
       "      <td>6</td>\n",
       "    </tr>\n",
       "    <tr>\n",
       "      <th>3</th>\n",
       "      <td>4</td>\n",
       "      <td>Female</td>\n",
       "      <td>23</td>\n",
       "      <td>16</td>\n",
       "      <td>77</td>\n",
       "    </tr>\n",
       "    <tr>\n",
       "      <th>4</th>\n",
       "      <td>5</td>\n",
       "      <td>Female</td>\n",
       "      <td>31</td>\n",
       "      <td>17</td>\n",
       "      <td>40</td>\n",
       "    </tr>\n",
       "    <tr>\n",
       "      <th>...</th>\n",
       "      <td>...</td>\n",
       "      <td>...</td>\n",
       "      <td>...</td>\n",
       "      <td>...</td>\n",
       "      <td>...</td>\n",
       "    </tr>\n",
       "    <tr>\n",
       "      <th>195</th>\n",
       "      <td>196</td>\n",
       "      <td>Female</td>\n",
       "      <td>35</td>\n",
       "      <td>120</td>\n",
       "      <td>79</td>\n",
       "    </tr>\n",
       "    <tr>\n",
       "      <th>196</th>\n",
       "      <td>197</td>\n",
       "      <td>Female</td>\n",
       "      <td>45</td>\n",
       "      <td>126</td>\n",
       "      <td>28</td>\n",
       "    </tr>\n",
       "    <tr>\n",
       "      <th>197</th>\n",
       "      <td>198</td>\n",
       "      <td>Male</td>\n",
       "      <td>32</td>\n",
       "      <td>126</td>\n",
       "      <td>74</td>\n",
       "    </tr>\n",
       "    <tr>\n",
       "      <th>198</th>\n",
       "      <td>199</td>\n",
       "      <td>Male</td>\n",
       "      <td>32</td>\n",
       "      <td>137</td>\n",
       "      <td>18</td>\n",
       "    </tr>\n",
       "    <tr>\n",
       "      <th>199</th>\n",
       "      <td>200</td>\n",
       "      <td>Male</td>\n",
       "      <td>30</td>\n",
       "      <td>137</td>\n",
       "      <td>83</td>\n",
       "    </tr>\n",
       "  </tbody>\n",
       "</table>\n",
       "<p>200 rows × 5 columns</p>\n",
       "</div>"
      ],
      "text/plain": [
       "     CustomerID  Gender  Age  Annual Income (k$)  Spending Score (1-100)\n",
       "0             1    Male   19                  15                      39\n",
       "1             2    Male   21                  15                      81\n",
       "2             3  Female   20                  16                       6\n",
       "3             4  Female   23                  16                      77\n",
       "4             5  Female   31                  17                      40\n",
       "..          ...     ...  ...                 ...                     ...\n",
       "195         196  Female   35                 120                      79\n",
       "196         197  Female   45                 126                      28\n",
       "197         198    Male   32                 126                      74\n",
       "198         199    Male   32                 137                      18\n",
       "199         200    Male   30                 137                      83\n",
       "\n",
       "[200 rows x 5 columns]"
      ]
     },
     "execution_count": 1,
     "metadata": {},
     "output_type": "execute_result"
    }
   ],
   "source": [
    "import numpy as np\n",
    "\n",
    "import pandas as pd\n",
    "\n",
    "import seaborn as sns\n",
    "\n",
    "import matplotlib.pyplot as plt\n",
    "\n",
    "import warnings\n",
    "\n",
    "warnings.filterwarnings('ignore')\n",
    "\n",
    "zephyr7b = pd.read_csv('/kaggle/input/customer-segmentation-tutorial-in-python/Mall_Customers.csv')\n",
    "\n",
    "zephyr7b"
   ]
  },
  {
   "cell_type": "code",
   "execution_count": 2,
   "id": "81fb9239",
   "metadata": {
    "execution": {
     "iopub.execute_input": "2024-01-31T03:08:20.470079Z",
     "iopub.status.busy": "2024-01-31T03:08:20.469656Z",
     "iopub.status.idle": "2024-01-31T03:08:20.637655Z",
     "shell.execute_reply": "2024-01-31T03:08:20.635879Z"
    },
    "papermill": {
     "duration": 0.177714,
     "end_time": "2024-01-31T03:08:20.640312",
     "exception": false,
     "start_time": "2024-01-31T03:08:20.462598",
     "status": "completed"
    },
    "tags": []
   },
   "outputs": [
    {
     "data": {
      "text/html": [
       "<style type=\"text/css\">\n",
       "#T_c81c8_row0_col0, #T_c81c8_row0_col2, #T_c81c8_row0_col3, #T_c81c8_row1_col3, #T_c81c8_row2_col4 {\n",
       "  background-color: #440154;\n",
       "  color: #f1f1f1;\n",
       "}\n",
       "#T_c81c8_row0_col4 {\n",
       "  background-color: #26828e;\n",
       "  color: #f1f1f1;\n",
       "}\n",
       "#T_c81c8_row1_col0 {\n",
       "  background-color: #3b528b;\n",
       "  color: #f1f1f1;\n",
       "}\n",
       "#T_c81c8_row1_col2 {\n",
       "  background-color: #443983;\n",
       "  color: #f1f1f1;\n",
       "}\n",
       "#T_c81c8_row1_col4, #T_c81c8_row4_col0, #T_c81c8_row4_col2, #T_c81c8_row4_col3 {\n",
       "  background-color: #fde725;\n",
       "  color: #000000;\n",
       "}\n",
       "#T_c81c8_row2_col0, #T_c81c8_row2_col3, #T_c81c8_row3_col3 {\n",
       "  background-color: #21918c;\n",
       "  color: #f1f1f1;\n",
       "}\n",
       "#T_c81c8_row2_col2 {\n",
       "  background-color: #481f70;\n",
       "  color: #f1f1f1;\n",
       "}\n",
       "#T_c81c8_row3_col0 {\n",
       "  background-color: #5ec962;\n",
       "  color: #000000;\n",
       "}\n",
       "#T_c81c8_row3_col2 {\n",
       "  background-color: #31688e;\n",
       "  color: #f1f1f1;\n",
       "}\n",
       "#T_c81c8_row3_col4 {\n",
       "  background-color: #dde318;\n",
       "  color: #000000;\n",
       "}\n",
       "#T_c81c8_row4_col4 {\n",
       "  background-color: #25858e;\n",
       "  color: #f1f1f1;\n",
       "}\n",
       "</style>\n",
       "<table id=\"T_c81c8\">\n",
       "  <thead>\n",
       "    <tr>\n",
       "      <th class=\"blank level0\" >&nbsp;</th>\n",
       "      <th id=\"T_c81c8_level0_col0\" class=\"col_heading level0 col0\" >CustomerID</th>\n",
       "      <th id=\"T_c81c8_level0_col1\" class=\"col_heading level0 col1\" >Gender</th>\n",
       "      <th id=\"T_c81c8_level0_col2\" class=\"col_heading level0 col2\" >Age</th>\n",
       "      <th id=\"T_c81c8_level0_col3\" class=\"col_heading level0 col3\" >Annual Income (k$)</th>\n",
       "      <th id=\"T_c81c8_level0_col4\" class=\"col_heading level0 col4\" >Spending Score (1-100)</th>\n",
       "    </tr>\n",
       "  </thead>\n",
       "  <tbody>\n",
       "    <tr>\n",
       "      <th id=\"T_c81c8_level0_row0\" class=\"row_heading level0 row0\" >0</th>\n",
       "      <td id=\"T_c81c8_row0_col0\" class=\"data row0 col0\" >1</td>\n",
       "      <td id=\"T_c81c8_row0_col1\" class=\"data row0 col1\" >Male</td>\n",
       "      <td id=\"T_c81c8_row0_col2\" class=\"data row0 col2\" >19</td>\n",
       "      <td id=\"T_c81c8_row0_col3\" class=\"data row0 col3\" >15</td>\n",
       "      <td id=\"T_c81c8_row0_col4\" class=\"data row0 col4\" >39</td>\n",
       "    </tr>\n",
       "    <tr>\n",
       "      <th id=\"T_c81c8_level0_row1\" class=\"row_heading level0 row1\" >1</th>\n",
       "      <td id=\"T_c81c8_row1_col0\" class=\"data row1 col0\" >2</td>\n",
       "      <td id=\"T_c81c8_row1_col1\" class=\"data row1 col1\" >Male</td>\n",
       "      <td id=\"T_c81c8_row1_col2\" class=\"data row1 col2\" >21</td>\n",
       "      <td id=\"T_c81c8_row1_col3\" class=\"data row1 col3\" >15</td>\n",
       "      <td id=\"T_c81c8_row1_col4\" class=\"data row1 col4\" >81</td>\n",
       "    </tr>\n",
       "    <tr>\n",
       "      <th id=\"T_c81c8_level0_row2\" class=\"row_heading level0 row2\" >2</th>\n",
       "      <td id=\"T_c81c8_row2_col0\" class=\"data row2 col0\" >3</td>\n",
       "      <td id=\"T_c81c8_row2_col1\" class=\"data row2 col1\" >Female</td>\n",
       "      <td id=\"T_c81c8_row2_col2\" class=\"data row2 col2\" >20</td>\n",
       "      <td id=\"T_c81c8_row2_col3\" class=\"data row2 col3\" >16</td>\n",
       "      <td id=\"T_c81c8_row2_col4\" class=\"data row2 col4\" >6</td>\n",
       "    </tr>\n",
       "    <tr>\n",
       "      <th id=\"T_c81c8_level0_row3\" class=\"row_heading level0 row3\" >3</th>\n",
       "      <td id=\"T_c81c8_row3_col0\" class=\"data row3 col0\" >4</td>\n",
       "      <td id=\"T_c81c8_row3_col1\" class=\"data row3 col1\" >Female</td>\n",
       "      <td id=\"T_c81c8_row3_col2\" class=\"data row3 col2\" >23</td>\n",
       "      <td id=\"T_c81c8_row3_col3\" class=\"data row3 col3\" >16</td>\n",
       "      <td id=\"T_c81c8_row3_col4\" class=\"data row3 col4\" >77</td>\n",
       "    </tr>\n",
       "    <tr>\n",
       "      <th id=\"T_c81c8_level0_row4\" class=\"row_heading level0 row4\" >4</th>\n",
       "      <td id=\"T_c81c8_row4_col0\" class=\"data row4 col0\" >5</td>\n",
       "      <td id=\"T_c81c8_row4_col1\" class=\"data row4 col1\" >Female</td>\n",
       "      <td id=\"T_c81c8_row4_col2\" class=\"data row4 col2\" >31</td>\n",
       "      <td id=\"T_c81c8_row4_col3\" class=\"data row4 col3\" >17</td>\n",
       "      <td id=\"T_c81c8_row4_col4\" class=\"data row4 col4\" >40</td>\n",
       "    </tr>\n",
       "  </tbody>\n",
       "</table>\n"
      ],
      "text/plain": [
       "<pandas.io.formats.style.Styler at 0x7aabe0ddceb0>"
      ]
     },
     "execution_count": 2,
     "metadata": {},
     "output_type": "execute_result"
    }
   ],
   "source": [
    "zephyr7b.head().style.background_gradient(cmap = 'viridis')"
   ]
  },
  {
   "cell_type": "code",
   "execution_count": 3,
   "id": "cf7c9e92",
   "metadata": {
    "execution": {
     "iopub.execute_input": "2024-01-31T03:08:20.653866Z",
     "iopub.status.busy": "2024-01-31T03:08:20.653422Z",
     "iopub.status.idle": "2024-01-31T03:08:20.669479Z",
     "shell.execute_reply": "2024-01-31T03:08:20.668198Z"
    },
    "papermill": {
     "duration": 0.025593,
     "end_time": "2024-01-31T03:08:20.672015",
     "exception": false,
     "start_time": "2024-01-31T03:08:20.646422",
     "status": "completed"
    },
    "tags": []
   },
   "outputs": [
    {
     "data": {
      "text/html": [
       "<style type=\"text/css\">\n",
       "#T_9beb6_row0_col0, #T_9beb6_row0_col3, #T_9beb6_row3_col4, #T_9beb6_row4_col2 {\n",
       "  background-color: #440154;\n",
       "  color: #f1f1f1;\n",
       "}\n",
       "#T_9beb6_row0_col2 {\n",
       "  background-color: #31688e;\n",
       "  color: #f1f1f1;\n",
       "}\n",
       "#T_9beb6_row0_col4 {\n",
       "  background-color: #d8e219;\n",
       "  color: #000000;\n",
       "}\n",
       "#T_9beb6_row1_col0 {\n",
       "  background-color: #3b528b;\n",
       "  color: #f1f1f1;\n",
       "}\n",
       "#T_9beb6_row1_col2, #T_9beb6_row3_col3, #T_9beb6_row4_col0, #T_9beb6_row4_col3, #T_9beb6_row4_col4 {\n",
       "  background-color: #fde725;\n",
       "  color: #000000;\n",
       "}\n",
       "#T_9beb6_row1_col3, #T_9beb6_row2_col3 {\n",
       "  background-color: #2e6d8e;\n",
       "  color: #f1f1f1;\n",
       "}\n",
       "#T_9beb6_row1_col4 {\n",
       "  background-color: #453581;\n",
       "  color: #f1f1f1;\n",
       "}\n",
       "#T_9beb6_row2_col0 {\n",
       "  background-color: #21918c;\n",
       "  color: #f1f1f1;\n",
       "}\n",
       "#T_9beb6_row2_col2, #T_9beb6_row3_col2 {\n",
       "  background-color: #472f7d;\n",
       "  color: #f1f1f1;\n",
       "}\n",
       "#T_9beb6_row2_col4 {\n",
       "  background-color: #a2da37;\n",
       "  color: #000000;\n",
       "}\n",
       "#T_9beb6_row3_col0 {\n",
       "  background-color: #5ec962;\n",
       "  color: #000000;\n",
       "}\n",
       "</style>\n",
       "<table id=\"T_9beb6\">\n",
       "  <thead>\n",
       "    <tr>\n",
       "      <th class=\"blank level0\" >&nbsp;</th>\n",
       "      <th id=\"T_9beb6_level0_col0\" class=\"col_heading level0 col0\" >CustomerID</th>\n",
       "      <th id=\"T_9beb6_level0_col1\" class=\"col_heading level0 col1\" >Gender</th>\n",
       "      <th id=\"T_9beb6_level0_col2\" class=\"col_heading level0 col2\" >Age</th>\n",
       "      <th id=\"T_9beb6_level0_col3\" class=\"col_heading level0 col3\" >Annual Income (k$)</th>\n",
       "      <th id=\"T_9beb6_level0_col4\" class=\"col_heading level0 col4\" >Spending Score (1-100)</th>\n",
       "    </tr>\n",
       "  </thead>\n",
       "  <tbody>\n",
       "    <tr>\n",
       "      <th id=\"T_9beb6_level0_row0\" class=\"row_heading level0 row0\" >195</th>\n",
       "      <td id=\"T_9beb6_row0_col0\" class=\"data row0 col0\" >196</td>\n",
       "      <td id=\"T_9beb6_row0_col1\" class=\"data row0 col1\" >Female</td>\n",
       "      <td id=\"T_9beb6_row0_col2\" class=\"data row0 col2\" >35</td>\n",
       "      <td id=\"T_9beb6_row0_col3\" class=\"data row0 col3\" >120</td>\n",
       "      <td id=\"T_9beb6_row0_col4\" class=\"data row0 col4\" >79</td>\n",
       "    </tr>\n",
       "    <tr>\n",
       "      <th id=\"T_9beb6_level0_row1\" class=\"row_heading level0 row1\" >196</th>\n",
       "      <td id=\"T_9beb6_row1_col0\" class=\"data row1 col0\" >197</td>\n",
       "      <td id=\"T_9beb6_row1_col1\" class=\"data row1 col1\" >Female</td>\n",
       "      <td id=\"T_9beb6_row1_col2\" class=\"data row1 col2\" >45</td>\n",
       "      <td id=\"T_9beb6_row1_col3\" class=\"data row1 col3\" >126</td>\n",
       "      <td id=\"T_9beb6_row1_col4\" class=\"data row1 col4\" >28</td>\n",
       "    </tr>\n",
       "    <tr>\n",
       "      <th id=\"T_9beb6_level0_row2\" class=\"row_heading level0 row2\" >197</th>\n",
       "      <td id=\"T_9beb6_row2_col0\" class=\"data row2 col0\" >198</td>\n",
       "      <td id=\"T_9beb6_row2_col1\" class=\"data row2 col1\" >Male</td>\n",
       "      <td id=\"T_9beb6_row2_col2\" class=\"data row2 col2\" >32</td>\n",
       "      <td id=\"T_9beb6_row2_col3\" class=\"data row2 col3\" >126</td>\n",
       "      <td id=\"T_9beb6_row2_col4\" class=\"data row2 col4\" >74</td>\n",
       "    </tr>\n",
       "    <tr>\n",
       "      <th id=\"T_9beb6_level0_row3\" class=\"row_heading level0 row3\" >198</th>\n",
       "      <td id=\"T_9beb6_row3_col0\" class=\"data row3 col0\" >199</td>\n",
       "      <td id=\"T_9beb6_row3_col1\" class=\"data row3 col1\" >Male</td>\n",
       "      <td id=\"T_9beb6_row3_col2\" class=\"data row3 col2\" >32</td>\n",
       "      <td id=\"T_9beb6_row3_col3\" class=\"data row3 col3\" >137</td>\n",
       "      <td id=\"T_9beb6_row3_col4\" class=\"data row3 col4\" >18</td>\n",
       "    </tr>\n",
       "    <tr>\n",
       "      <th id=\"T_9beb6_level0_row4\" class=\"row_heading level0 row4\" >199</th>\n",
       "      <td id=\"T_9beb6_row4_col0\" class=\"data row4 col0\" >200</td>\n",
       "      <td id=\"T_9beb6_row4_col1\" class=\"data row4 col1\" >Male</td>\n",
       "      <td id=\"T_9beb6_row4_col2\" class=\"data row4 col2\" >30</td>\n",
       "      <td id=\"T_9beb6_row4_col3\" class=\"data row4 col3\" >137</td>\n",
       "      <td id=\"T_9beb6_row4_col4\" class=\"data row4 col4\" >83</td>\n",
       "    </tr>\n",
       "  </tbody>\n",
       "</table>\n"
      ],
      "text/plain": [
       "<pandas.io.formats.style.Styler at 0x7aaba6424d60>"
      ]
     },
     "execution_count": 3,
     "metadata": {},
     "output_type": "execute_result"
    }
   ],
   "source": [
    "zephyr7b.tail().style.background_gradient(cmap = 'viridis')"
   ]
  },
  {
   "cell_type": "code",
   "execution_count": 4,
   "id": "47a6ff0f",
   "metadata": {
    "execution": {
     "iopub.execute_input": "2024-01-31T03:08:20.685822Z",
     "iopub.status.busy": "2024-01-31T03:08:20.685477Z",
     "iopub.status.idle": "2024-01-31T03:08:20.690678Z",
     "shell.execute_reply": "2024-01-31T03:08:20.689925Z"
    },
    "papermill": {
     "duration": 0.014373,
     "end_time": "2024-01-31T03:08:20.692610",
     "exception": false,
     "start_time": "2024-01-31T03:08:20.678237",
     "status": "completed"
    },
    "tags": []
   },
   "outputs": [
    {
     "data": {
      "text/plain": [
       "(200, 5)"
      ]
     },
     "execution_count": 4,
     "metadata": {},
     "output_type": "execute_result"
    }
   ],
   "source": [
    "zephyr7b.shape"
   ]
  },
  {
   "cell_type": "code",
   "execution_count": 5,
   "id": "b46b31a1",
   "metadata": {
    "execution": {
     "iopub.execute_input": "2024-01-31T03:08:20.706403Z",
     "iopub.status.busy": "2024-01-31T03:08:20.706122Z",
     "iopub.status.idle": "2024-01-31T03:08:20.727043Z",
     "shell.execute_reply": "2024-01-31T03:08:20.725239Z"
    },
    "papermill": {
     "duration": 0.030478,
     "end_time": "2024-01-31T03:08:20.729444",
     "exception": false,
     "start_time": "2024-01-31T03:08:20.698966",
     "status": "completed"
    },
    "tags": []
   },
   "outputs": [
    {
     "name": "stdout",
     "output_type": "stream",
     "text": [
      "<class 'pandas.core.frame.DataFrame'>\n",
      "RangeIndex: 200 entries, 0 to 199\n",
      "Data columns (total 5 columns):\n",
      " #   Column                  Non-Null Count  Dtype \n",
      "---  ------                  --------------  ----- \n",
      " 0   CustomerID              200 non-null    int64 \n",
      " 1   Gender                  200 non-null    object\n",
      " 2   Age                     200 non-null    int64 \n",
      " 3   Annual Income (k$)      200 non-null    int64 \n",
      " 4   Spending Score (1-100)  200 non-null    int64 \n",
      "dtypes: int64(4), object(1)\n",
      "memory usage: 7.9+ KB\n"
     ]
    }
   ],
   "source": [
    "zephyr7b.info()"
   ]
  },
  {
   "cell_type": "code",
   "execution_count": 6,
   "id": "25b491b4",
   "metadata": {
    "execution": {
     "iopub.execute_input": "2024-01-31T03:08:20.744230Z",
     "iopub.status.busy": "2024-01-31T03:08:20.743892Z",
     "iopub.status.idle": "2024-01-31T03:08:20.769468Z",
     "shell.execute_reply": "2024-01-31T03:08:20.768045Z"
    },
    "papermill": {
     "duration": 0.036185,
     "end_time": "2024-01-31T03:08:20.772128",
     "exception": false,
     "start_time": "2024-01-31T03:08:20.735943",
     "status": "completed"
    },
    "tags": []
   },
   "outputs": [
    {
     "data": {
      "text/html": [
       "<style type=\"text/css\">\n",
       "#T_31001_row0_col0, #T_31001_row0_col1, #T_31001_row0_col2, #T_31001_row0_col3, #T_31001_row7_col0 {\n",
       "  background-color: #fde725;\n",
       "  color: #000000;\n",
       "}\n",
       "#T_31001_row1_col0, #T_31001_row5_col0 {\n",
       "  background-color: #21918c;\n",
       "  color: #f1f1f1;\n",
       "}\n",
       "#T_31001_row1_col1 {\n",
       "  background-color: #472f7d;\n",
       "  color: #f1f1f1;\n",
       "}\n",
       "#T_31001_row1_col2, #T_31001_row1_col3, #T_31001_row5_col3 {\n",
       "  background-color: #3b518b;\n",
       "  color: #f1f1f1;\n",
       "}\n",
       "#T_31001_row2_col0 {\n",
       "  background-color: #365c8d;\n",
       "  color: #f1f1f1;\n",
       "}\n",
       "#T_31001_row2_col1, #T_31001_row3_col0, #T_31001_row3_col2, #T_31001_row3_col3 {\n",
       "  background-color: #440154;\n",
       "  color: #f1f1f1;\n",
       "}\n",
       "#T_31001_row2_col2 {\n",
       "  background-color: #481769;\n",
       "  color: #f1f1f1;\n",
       "}\n",
       "#T_31001_row2_col3 {\n",
       "  background-color: #472c7a;\n",
       "  color: #f1f1f1;\n",
       "}\n",
       "#T_31001_row3_col1 {\n",
       "  background-color: #46085c;\n",
       "  color: #f1f1f1;\n",
       "}\n",
       "#T_31001_row4_col0, #T_31001_row5_col2 {\n",
       "  background-color: #3b528b;\n",
       "  color: #f1f1f1;\n",
       "}\n",
       "#T_31001_row4_col1 {\n",
       "  background-color: #481d6f;\n",
       "  color: #f1f1f1;\n",
       "}\n",
       "#T_31001_row4_col2 {\n",
       "  background-color: #46327e;\n",
       "  color: #f1f1f1;\n",
       "}\n",
       "#T_31001_row4_col3 {\n",
       "  background-color: #443a83;\n",
       "  color: #f1f1f1;\n",
       "}\n",
       "#T_31001_row5_col1 {\n",
       "  background-color: #472a7a;\n",
       "  color: #f1f1f1;\n",
       "}\n",
       "#T_31001_row6_col0 {\n",
       "  background-color: #5ec962;\n",
       "  color: #000000;\n",
       "}\n",
       "#T_31001_row6_col1 {\n",
       "  background-color: #424086;\n",
       "  color: #f1f1f1;\n",
       "}\n",
       "#T_31001_row6_col2 {\n",
       "  background-color: #306a8e;\n",
       "  color: #f1f1f1;\n",
       "}\n",
       "#T_31001_row6_col3 {\n",
       "  background-color: #2e6f8e;\n",
       "  color: #f1f1f1;\n",
       "}\n",
       "#T_31001_row7_col1 {\n",
       "  background-color: #34608d;\n",
       "  color: #f1f1f1;\n",
       "}\n",
       "#T_31001_row7_col2 {\n",
       "  background-color: #32b67a;\n",
       "  color: #f1f1f1;\n",
       "}\n",
       "#T_31001_row7_col3 {\n",
       "  background-color: #218f8d;\n",
       "  color: #f1f1f1;\n",
       "}\n",
       "</style>\n",
       "<table id=\"T_31001\">\n",
       "  <thead>\n",
       "    <tr>\n",
       "      <th class=\"blank level0\" >&nbsp;</th>\n",
       "      <th id=\"T_31001_level0_col0\" class=\"col_heading level0 col0\" >CustomerID</th>\n",
       "      <th id=\"T_31001_level0_col1\" class=\"col_heading level0 col1\" >Age</th>\n",
       "      <th id=\"T_31001_level0_col2\" class=\"col_heading level0 col2\" >Annual Income (k$)</th>\n",
       "      <th id=\"T_31001_level0_col3\" class=\"col_heading level0 col3\" >Spending Score (1-100)</th>\n",
       "    </tr>\n",
       "  </thead>\n",
       "  <tbody>\n",
       "    <tr>\n",
       "      <th id=\"T_31001_level0_row0\" class=\"row_heading level0 row0\" >count</th>\n",
       "      <td id=\"T_31001_row0_col0\" class=\"data row0 col0\" >200.000000</td>\n",
       "      <td id=\"T_31001_row0_col1\" class=\"data row0 col1\" >200.000000</td>\n",
       "      <td id=\"T_31001_row0_col2\" class=\"data row0 col2\" >200.000000</td>\n",
       "      <td id=\"T_31001_row0_col3\" class=\"data row0 col3\" >200.000000</td>\n",
       "    </tr>\n",
       "    <tr>\n",
       "      <th id=\"T_31001_level0_row1\" class=\"row_heading level0 row1\" >mean</th>\n",
       "      <td id=\"T_31001_row1_col0\" class=\"data row1 col0\" >100.500000</td>\n",
       "      <td id=\"T_31001_row1_col1\" class=\"data row1 col1\" >38.850000</td>\n",
       "      <td id=\"T_31001_row1_col2\" class=\"data row1 col2\" >60.560000</td>\n",
       "      <td id=\"T_31001_row1_col3\" class=\"data row1 col3\" >50.200000</td>\n",
       "    </tr>\n",
       "    <tr>\n",
       "      <th id=\"T_31001_level0_row2\" class=\"row_heading level0 row2\" >std</th>\n",
       "      <td id=\"T_31001_row2_col0\" class=\"data row2 col0\" >57.879185</td>\n",
       "      <td id=\"T_31001_row2_col1\" class=\"data row2 col1\" >13.969007</td>\n",
       "      <td id=\"T_31001_row2_col2\" class=\"data row2 col2\" >26.264721</td>\n",
       "      <td id=\"T_31001_row2_col3\" class=\"data row2 col3\" >25.823522</td>\n",
       "    </tr>\n",
       "    <tr>\n",
       "      <th id=\"T_31001_level0_row3\" class=\"row_heading level0 row3\" >min</th>\n",
       "      <td id=\"T_31001_row3_col0\" class=\"data row3 col0\" >1.000000</td>\n",
       "      <td id=\"T_31001_row3_col1\" class=\"data row3 col1\" >18.000000</td>\n",
       "      <td id=\"T_31001_row3_col2\" class=\"data row3 col2\" >15.000000</td>\n",
       "      <td id=\"T_31001_row3_col3\" class=\"data row3 col3\" >1.000000</td>\n",
       "    </tr>\n",
       "    <tr>\n",
       "      <th id=\"T_31001_level0_row4\" class=\"row_heading level0 row4\" >25%</th>\n",
       "      <td id=\"T_31001_row4_col0\" class=\"data row4 col0\" >50.750000</td>\n",
       "      <td id=\"T_31001_row4_col1\" class=\"data row4 col1\" >28.750000</td>\n",
       "      <td id=\"T_31001_row4_col2\" class=\"data row4 col2\" >41.500000</td>\n",
       "      <td id=\"T_31001_row4_col3\" class=\"data row4 col3\" >34.750000</td>\n",
       "    </tr>\n",
       "    <tr>\n",
       "      <th id=\"T_31001_level0_row5\" class=\"row_heading level0 row5\" >50%</th>\n",
       "      <td id=\"T_31001_row5_col0\" class=\"data row5 col0\" >100.500000</td>\n",
       "      <td id=\"T_31001_row5_col1\" class=\"data row5 col1\" >36.000000</td>\n",
       "      <td id=\"T_31001_row5_col2\" class=\"data row5 col2\" >61.500000</td>\n",
       "      <td id=\"T_31001_row5_col3\" class=\"data row5 col3\" >50.000000</td>\n",
       "    </tr>\n",
       "    <tr>\n",
       "      <th id=\"T_31001_level0_row6\" class=\"row_heading level0 row6\" >75%</th>\n",
       "      <td id=\"T_31001_row6_col0\" class=\"data row6 col0\" >150.250000</td>\n",
       "      <td id=\"T_31001_row6_col1\" class=\"data row6 col1\" >49.000000</td>\n",
       "      <td id=\"T_31001_row6_col2\" class=\"data row6 col2\" >78.000000</td>\n",
       "      <td id=\"T_31001_row6_col3\" class=\"data row6 col3\" >73.000000</td>\n",
       "    </tr>\n",
       "    <tr>\n",
       "      <th id=\"T_31001_level0_row7\" class=\"row_heading level0 row7\" >max</th>\n",
       "      <td id=\"T_31001_row7_col0\" class=\"data row7 col0\" >200.000000</td>\n",
       "      <td id=\"T_31001_row7_col1\" class=\"data row7 col1\" >70.000000</td>\n",
       "      <td id=\"T_31001_row7_col2\" class=\"data row7 col2\" >137.000000</td>\n",
       "      <td id=\"T_31001_row7_col3\" class=\"data row7 col3\" >99.000000</td>\n",
       "    </tr>\n",
       "  </tbody>\n",
       "</table>\n"
      ],
      "text/plain": [
       "<pandas.io.formats.style.Styler at 0x7aac03200f40>"
      ]
     },
     "execution_count": 6,
     "metadata": {},
     "output_type": "execute_result"
    }
   ],
   "source": [
    "zephyr7b.describe().style.background_gradient(cmap = 'viridis')"
   ]
  },
  {
   "cell_type": "code",
   "execution_count": 7,
   "id": "fab7a8b1",
   "metadata": {
    "execution": {
     "iopub.execute_input": "2024-01-31T03:08:20.788043Z",
     "iopub.status.busy": "2024-01-31T03:08:20.787674Z",
     "iopub.status.idle": "2024-01-31T03:08:20.796541Z",
     "shell.execute_reply": "2024-01-31T03:08:20.794998Z"
    },
    "papermill": {
     "duration": 0.019346,
     "end_time": "2024-01-31T03:08:20.798716",
     "exception": false,
     "start_time": "2024-01-31T03:08:20.779370",
     "status": "completed"
    },
    "tags": []
   },
   "outputs": [
    {
     "data": {
      "text/plain": [
       "CustomerID                0\n",
       "Gender                    0\n",
       "Age                       0\n",
       "Annual Income (k$)        0\n",
       "Spending Score (1-100)    0\n",
       "dtype: int64"
      ]
     },
     "execution_count": 7,
     "metadata": {},
     "output_type": "execute_result"
    }
   ],
   "source": [
    "zephyr7b.isna().sum()"
   ]
  },
  {
   "cell_type": "code",
   "execution_count": 8,
   "id": "edbefc5e",
   "metadata": {
    "execution": {
     "iopub.execute_input": "2024-01-31T03:08:20.814068Z",
     "iopub.status.busy": "2024-01-31T03:08:20.813743Z",
     "iopub.status.idle": "2024-01-31T03:08:20.824044Z",
     "shell.execute_reply": "2024-01-31T03:08:20.823202Z"
    },
    "papermill": {
     "duration": 0.020059,
     "end_time": "2024-01-31T03:08:20.825717",
     "exception": false,
     "start_time": "2024-01-31T03:08:20.805658",
     "status": "completed"
    },
    "tags": []
   },
   "outputs": [
    {
     "data": {
      "text/html": [
       "<div>\n",
       "<style scoped>\n",
       "    .dataframe tbody tr th:only-of-type {\n",
       "        vertical-align: middle;\n",
       "    }\n",
       "\n",
       "    .dataframe tbody tr th {\n",
       "        vertical-align: top;\n",
       "    }\n",
       "\n",
       "    .dataframe thead th {\n",
       "        text-align: right;\n",
       "    }\n",
       "</style>\n",
       "<table border=\"1\" class=\"dataframe\">\n",
       "  <thead>\n",
       "    <tr style=\"text-align: right;\">\n",
       "      <th></th>\n",
       "      <th>Age</th>\n",
       "      <th>Annual Income (k$)</th>\n",
       "      <th>Spending Score (1-100)</th>\n",
       "    </tr>\n",
       "  </thead>\n",
       "  <tbody>\n",
       "    <tr>\n",
       "      <th>0</th>\n",
       "      <td>19</td>\n",
       "      <td>15</td>\n",
       "      <td>39</td>\n",
       "    </tr>\n",
       "    <tr>\n",
       "      <th>1</th>\n",
       "      <td>21</td>\n",
       "      <td>15</td>\n",
       "      <td>81</td>\n",
       "    </tr>\n",
       "    <tr>\n",
       "      <th>2</th>\n",
       "      <td>20</td>\n",
       "      <td>16</td>\n",
       "      <td>6</td>\n",
       "    </tr>\n",
       "    <tr>\n",
       "      <th>3</th>\n",
       "      <td>23</td>\n",
       "      <td>16</td>\n",
       "      <td>77</td>\n",
       "    </tr>\n",
       "    <tr>\n",
       "      <th>4</th>\n",
       "      <td>31</td>\n",
       "      <td>17</td>\n",
       "      <td>40</td>\n",
       "    </tr>\n",
       "    <tr>\n",
       "      <th>...</th>\n",
       "      <td>...</td>\n",
       "      <td>...</td>\n",
       "      <td>...</td>\n",
       "    </tr>\n",
       "    <tr>\n",
       "      <th>195</th>\n",
       "      <td>35</td>\n",
       "      <td>120</td>\n",
       "      <td>79</td>\n",
       "    </tr>\n",
       "    <tr>\n",
       "      <th>196</th>\n",
       "      <td>45</td>\n",
       "      <td>126</td>\n",
       "      <td>28</td>\n",
       "    </tr>\n",
       "    <tr>\n",
       "      <th>197</th>\n",
       "      <td>32</td>\n",
       "      <td>126</td>\n",
       "      <td>74</td>\n",
       "    </tr>\n",
       "    <tr>\n",
       "      <th>198</th>\n",
       "      <td>32</td>\n",
       "      <td>137</td>\n",
       "      <td>18</td>\n",
       "    </tr>\n",
       "    <tr>\n",
       "      <th>199</th>\n",
       "      <td>30</td>\n",
       "      <td>137</td>\n",
       "      <td>83</td>\n",
       "    </tr>\n",
       "  </tbody>\n",
       "</table>\n",
       "<p>200 rows × 3 columns</p>\n",
       "</div>"
      ],
      "text/plain": [
       "     Age  Annual Income (k$)  Spending Score (1-100)\n",
       "0     19                  15                      39\n",
       "1     21                  15                      81\n",
       "2     20                  16                       6\n",
       "3     23                  16                      77\n",
       "4     31                  17                      40\n",
       "..   ...                 ...                     ...\n",
       "195   35                 120                      79\n",
       "196   45                 126                      28\n",
       "197   32                 126                      74\n",
       "198   32                 137                      18\n",
       "199   30                 137                      83\n",
       "\n",
       "[200 rows x 3 columns]"
      ]
     },
     "execution_count": 8,
     "metadata": {},
     "output_type": "execute_result"
    }
   ],
   "source": [
    "zephyr7b.drop(['CustomerID','Gender'],axis =1,inplace = True)\n",
    "\n",
    "zephyr7b"
   ]
  },
  {
   "cell_type": "code",
   "execution_count": 9,
   "id": "c81868e7",
   "metadata": {
    "execution": {
     "iopub.execute_input": "2024-01-31T03:08:20.843180Z",
     "iopub.status.busy": "2024-01-31T03:08:20.842774Z",
     "iopub.status.idle": "2024-01-31T03:08:20.853387Z",
     "shell.execute_reply": "2024-01-31T03:08:20.852277Z"
    },
    "papermill": {
     "duration": 0.02153,
     "end_time": "2024-01-31T03:08:20.855967",
     "exception": false,
     "start_time": "2024-01-31T03:08:20.834437",
     "status": "completed"
    },
    "tags": []
   },
   "outputs": [
    {
     "data": {
      "text/html": [
       "<div>\n",
       "<style scoped>\n",
       "    .dataframe tbody tr th:only-of-type {\n",
       "        vertical-align: middle;\n",
       "    }\n",
       "\n",
       "    .dataframe tbody tr th {\n",
       "        vertical-align: top;\n",
       "    }\n",
       "\n",
       "    .dataframe thead th {\n",
       "        text-align: right;\n",
       "    }\n",
       "</style>\n",
       "<table border=\"1\" class=\"dataframe\">\n",
       "  <thead>\n",
       "    <tr style=\"text-align: right;\">\n",
       "      <th></th>\n",
       "      <th>Age</th>\n",
       "      <th>Annual Income (k$)</th>\n",
       "      <th>Spending Score (1-100)</th>\n",
       "    </tr>\n",
       "  </thead>\n",
       "  <tbody>\n",
       "    <tr>\n",
       "      <th>0</th>\n",
       "      <td>19</td>\n",
       "      <td>15</td>\n",
       "      <td>39</td>\n",
       "    </tr>\n",
       "    <tr>\n",
       "      <th>1</th>\n",
       "      <td>21</td>\n",
       "      <td>15</td>\n",
       "      <td>81</td>\n",
       "    </tr>\n",
       "    <tr>\n",
       "      <th>2</th>\n",
       "      <td>20</td>\n",
       "      <td>16</td>\n",
       "      <td>6</td>\n",
       "    </tr>\n",
       "    <tr>\n",
       "      <th>3</th>\n",
       "      <td>23</td>\n",
       "      <td>16</td>\n",
       "      <td>77</td>\n",
       "    </tr>\n",
       "    <tr>\n",
       "      <th>4</th>\n",
       "      <td>31</td>\n",
       "      <td>17</td>\n",
       "      <td>40</td>\n",
       "    </tr>\n",
       "    <tr>\n",
       "      <th>...</th>\n",
       "      <td>...</td>\n",
       "      <td>...</td>\n",
       "      <td>...</td>\n",
       "    </tr>\n",
       "    <tr>\n",
       "      <th>195</th>\n",
       "      <td>35</td>\n",
       "      <td>120</td>\n",
       "      <td>79</td>\n",
       "    </tr>\n",
       "    <tr>\n",
       "      <th>196</th>\n",
       "      <td>45</td>\n",
       "      <td>126</td>\n",
       "      <td>28</td>\n",
       "    </tr>\n",
       "    <tr>\n",
       "      <th>197</th>\n",
       "      <td>32</td>\n",
       "      <td>126</td>\n",
       "      <td>74</td>\n",
       "    </tr>\n",
       "    <tr>\n",
       "      <th>198</th>\n",
       "      <td>32</td>\n",
       "      <td>137</td>\n",
       "      <td>18</td>\n",
       "    </tr>\n",
       "    <tr>\n",
       "      <th>199</th>\n",
       "      <td>30</td>\n",
       "      <td>137</td>\n",
       "      <td>83</td>\n",
       "    </tr>\n",
       "  </tbody>\n",
       "</table>\n",
       "<p>200 rows × 3 columns</p>\n",
       "</div>"
      ],
      "text/plain": [
       "     Age  Annual Income (k$)  Spending Score (1-100)\n",
       "0     19                  15                      39\n",
       "1     21                  15                      81\n",
       "2     20                  16                       6\n",
       "3     23                  16                      77\n",
       "4     31                  17                      40\n",
       "..   ...                 ...                     ...\n",
       "195   35                 120                      79\n",
       "196   45                 126                      28\n",
       "197   32                 126                      74\n",
       "198   32                 137                      18\n",
       "199   30                 137                      83\n",
       "\n",
       "[200 rows x 3 columns]"
      ]
     },
     "execution_count": 9,
     "metadata": {},
     "output_type": "execute_result"
    }
   ],
   "source": [
    "x = zephyr7b.iloc[:,:]\n",
    "\n",
    "x"
   ]
  },
  {
   "cell_type": "markdown",
   "id": "8586fc98",
   "metadata": {
    "papermill": {
     "duration": 0.006775,
     "end_time": "2024-01-31T03:08:20.869988",
     "exception": false,
     "start_time": "2024-01-31T03:08:20.863213",
     "status": "completed"
    },
    "tags": []
   },
   "source": [
    "**Elbow Technique**"
   ]
  },
  {
   "cell_type": "code",
   "execution_count": 10,
   "id": "b5c1c64c",
   "metadata": {
    "execution": {
     "iopub.execute_input": "2024-01-31T03:08:20.885719Z",
     "iopub.status.busy": "2024-01-31T03:08:20.885343Z",
     "iopub.status.idle": "2024-01-31T03:08:21.653381Z",
     "shell.execute_reply": "2024-01-31T03:08:21.652674Z"
    },
    "papermill": {
     "duration": 0.778383,
     "end_time": "2024-01-31T03:08:21.655473",
     "exception": false,
     "start_time": "2024-01-31T03:08:20.877090",
     "status": "completed"
    },
    "tags": []
   },
   "outputs": [],
   "source": [
    "from sklearn.cluster import KMeans\n",
    "\n",
    "wcss = []\n",
    "\n",
    "for i in range(1,11):\n",
    "\n",
    "    data = KMeans(n_clusters=i,init = 'k-means++', random_state = 42)\n",
    "\n",
    "    data.fit(x)\n",
    "\n",
    "    wcss.append(data.inertia_)"
   ]
  },
  {
   "cell_type": "code",
   "execution_count": 11,
   "id": "43808f64",
   "metadata": {
    "execution": {
     "iopub.execute_input": "2024-01-31T03:08:21.672045Z",
     "iopub.status.busy": "2024-01-31T03:08:21.671356Z",
     "iopub.status.idle": "2024-01-31T03:08:21.675861Z",
     "shell.execute_reply": "2024-01-31T03:08:21.674521Z"
    },
    "papermill": {
     "duration": 0.015317,
     "end_time": "2024-01-31T03:08:21.678314",
     "exception": false,
     "start_time": "2024-01-31T03:08:21.662997",
     "status": "completed"
    },
    "tags": []
   },
   "outputs": [
    {
     "name": "stdout",
     "output_type": "stream",
     "text": [
      "[308812.78, 212840.16982097193, 143342.751571706, 104366.15145556198, 75378.76464074483, 58302.40630860368, 51118.9499316473, 44312.46881207722, 40894.989782139775, 37468.515715765716]\n"
     ]
    }
   ],
   "source": [
    "print(wcss)"
   ]
  },
  {
   "cell_type": "code",
   "execution_count": 12,
   "id": "622d31f8",
   "metadata": {
    "execution": {
     "iopub.execute_input": "2024-01-31T03:08:21.694428Z",
     "iopub.status.busy": "2024-01-31T03:08:21.693792Z",
     "iopub.status.idle": "2024-01-31T03:08:21.699489Z",
     "shell.execute_reply": "2024-01-31T03:08:21.698572Z"
    },
    "papermill": {
     "duration": 0.015514,
     "end_time": "2024-01-31T03:08:21.701191",
     "exception": false,
     "start_time": "2024-01-31T03:08:21.685677",
     "status": "completed"
    },
    "tags": []
   },
   "outputs": [
    {
     "data": {
      "text/plain": [
       "10"
      ]
     },
     "execution_count": 12,
     "metadata": {},
     "output_type": "execute_result"
    }
   ],
   "source": [
    "len(wcss)"
   ]
  },
  {
   "cell_type": "code",
   "execution_count": 13,
   "id": "829577b7",
   "metadata": {
    "execution": {
     "iopub.execute_input": "2024-01-31T03:08:21.717437Z",
     "iopub.status.busy": "2024-01-31T03:08:21.717066Z",
     "iopub.status.idle": "2024-01-31T03:08:21.932707Z",
     "shell.execute_reply": "2024-01-31T03:08:21.930888Z"
    },
    "papermill": {
     "duration": 0.226372,
     "end_time": "2024-01-31T03:08:21.934908",
     "exception": false,
     "start_time": "2024-01-31T03:08:21.708536",
     "status": "completed"
    },
    "tags": []
   },
   "outputs": [
    {
     "data": {
      "text/plain": [
       "Text(0.5, 1.0, 'Elbow Technique')"
      ]
     },
     "execution_count": 13,
     "metadata": {},
     "output_type": "execute_result"
    },
    {
     "data": {
      "image/png": "[encoded data removed]",
      "text/plain": [
       "<Figure size 640x480 with 1 Axes>"
      ]
     },
     "metadata": {},
     "output_type": "display_data"
    }
   ],
   "source": [
    "plt.plot(range(1,11),wcss)\n",
    "\n",
    "plt.xlabel('Number of clusters')\n",
    "\n",
    "plt.ylabel('Varience')\n",
    "\n",
    "plt.title('Elbow Technique')\n",
    "\n",
    "#1-10 x  y-value= wcss"
   ]
  },
  {
   "cell_type": "code",
   "execution_count": 14,
   "id": "e7d069a6",
   "metadata": {
    "execution": {
     "iopub.execute_input": "2024-01-31T03:08:21.953361Z",
     "iopub.status.busy": "2024-01-31T03:08:21.953027Z",
     "iopub.status.idle": "2024-01-31T03:08:21.984473Z",
     "shell.execute_reply": "2024-01-31T03:08:21.983572Z"
    },
    "papermill": {
     "duration": 0.0427,
     "end_time": "2024-01-31T03:08:21.986439",
     "exception": false,
     "start_time": "2024-01-31T03:08:21.943739",
     "status": "completed"
    },
    "tags": []
   },
   "outputs": [
    {
     "data": {
      "text/plain": [
       "array([0, 3, 0, 3, 0, 3, 0, 3, 0, 3, 0, 3, 0, 3, 0, 3, 0, 3, 0, 3, 0, 3,\n",
       "       0, 3, 0, 3, 0, 3, 0, 3, 0, 3, 0, 3, 0, 3, 0, 3, 0, 3, 2, 3, 0, 4,\n",
       "       0, 3, 2, 4, 4, 4, 2, 4, 4, 2, 2, 2, 2, 2, 4, 2, 2, 4, 2, 2, 2, 4,\n",
       "       2, 2, 4, 4, 2, 2, 2, 2, 2, 4, 2, 4, 4, 2, 2, 4, 2, 2, 4, 2, 2, 4,\n",
       "       4, 2, 2, 4, 2, 4, 4, 4, 2, 4, 2, 4, 4, 2, 2, 4, 2, 4, 2, 2, 2, 2,\n",
       "       2, 4, 4, 4, 4, 4, 2, 2, 2, 2, 4, 4, 4, 1, 4, 1, 5, 1, 5, 1, 5, 1,\n",
       "       4, 1, 5, 1, 5, 1, 5, 1, 5, 1, 4, 1, 5, 1, 5, 1, 5, 1, 5, 1, 5, 1,\n",
       "       5, 1, 5, 1, 5, 1, 5, 1, 5, 1, 5, 1, 5, 1, 5, 1, 5, 1, 5, 1, 5, 1,\n",
       "       5, 1, 5, 1, 5, 1, 5, 1, 5, 1, 5, 1, 5, 1, 5, 1, 5, 1, 5, 1, 5, 1,\n",
       "       5, 1], dtype=int32)"
      ]
     },
     "execution_count": 14,
     "metadata": {},
     "output_type": "execute_result"
    }
   ],
   "source": [
    "model = KMeans(n_clusters = 6 , init= 'k-means++',random_state = 42)\n",
    "\n",
    "y_means = model.fit_predict(x)\n",
    "\n",
    "y_means"
   ]
  },
  {
   "cell_type": "code",
   "execution_count": 15,
   "id": "08df009e",
   "metadata": {
    "execution": {
     "iopub.execute_input": "2024-01-31T03:08:22.004358Z",
     "iopub.status.busy": "2024-01-31T03:08:22.003777Z",
     "iopub.status.idle": "2024-01-31T03:08:22.014207Z",
     "shell.execute_reply": "2024-01-31T03:08:22.013337Z"
    },
    "papermill": {
     "duration": 0.021593,
     "end_time": "2024-01-31T03:08:22.016158",
     "exception": false,
     "start_time": "2024-01-31T03:08:21.994565",
     "status": "completed"
    },
    "tags": []
   },
   "outputs": [
    {
     "data": {
      "text/html": [
       "<div>\n",
       "<style scoped>\n",
       "    .dataframe tbody tr th:only-of-type {\n",
       "        vertical-align: middle;\n",
       "    }\n",
       "\n",
       "    .dataframe tbody tr th {\n",
       "        vertical-align: top;\n",
       "    }\n",
       "\n",
       "    .dataframe thead th {\n",
       "        text-align: right;\n",
       "    }\n",
       "</style>\n",
       "<table border=\"1\" class=\"dataframe\">\n",
       "  <thead>\n",
       "    <tr style=\"text-align: right;\">\n",
       "      <th></th>\n",
       "      <th>Age</th>\n",
       "      <th>Annual Income (k$)</th>\n",
       "      <th>Spending Score (1-100)</th>\n",
       "      <th>cluster</th>\n",
       "    </tr>\n",
       "  </thead>\n",
       "  <tbody>\n",
       "    <tr>\n",
       "      <th>0</th>\n",
       "      <td>19</td>\n",
       "      <td>15</td>\n",
       "      <td>39</td>\n",
       "      <td>0</td>\n",
       "    </tr>\n",
       "    <tr>\n",
       "      <th>1</th>\n",
       "      <td>21</td>\n",
       "      <td>15</td>\n",
       "      <td>81</td>\n",
       "      <td>3</td>\n",
       "    </tr>\n",
       "    <tr>\n",
       "      <th>2</th>\n",
       "      <td>20</td>\n",
       "      <td>16</td>\n",
       "      <td>6</td>\n",
       "      <td>0</td>\n",
       "    </tr>\n",
       "    <tr>\n",
       "      <th>3</th>\n",
       "      <td>23</td>\n",
       "      <td>16</td>\n",
       "      <td>77</td>\n",
       "      <td>3</td>\n",
       "    </tr>\n",
       "    <tr>\n",
       "      <th>4</th>\n",
       "      <td>31</td>\n",
       "      <td>17</td>\n",
       "      <td>40</td>\n",
       "      <td>0</td>\n",
       "    </tr>\n",
       "    <tr>\n",
       "      <th>...</th>\n",
       "      <td>...</td>\n",
       "      <td>...</td>\n",
       "      <td>...</td>\n",
       "      <td>...</td>\n",
       "    </tr>\n",
       "    <tr>\n",
       "      <th>195</th>\n",
       "      <td>35</td>\n",
       "      <td>120</td>\n",
       "      <td>79</td>\n",
       "      <td>1</td>\n",
       "    </tr>\n",
       "    <tr>\n",
       "      <th>196</th>\n",
       "      <td>45</td>\n",
       "      <td>126</td>\n",
       "      <td>28</td>\n",
       "      <td>5</td>\n",
       "    </tr>\n",
       "    <tr>\n",
       "      <th>197</th>\n",
       "      <td>32</td>\n",
       "      <td>126</td>\n",
       "      <td>74</td>\n",
       "      <td>1</td>\n",
       "    </tr>\n",
       "    <tr>\n",
       "      <th>198</th>\n",
       "      <td>32</td>\n",
       "      <td>137</td>\n",
       "      <td>18</td>\n",
       "      <td>5</td>\n",
       "    </tr>\n",
       "    <tr>\n",
       "      <th>199</th>\n",
       "      <td>30</td>\n",
       "      <td>137</td>\n",
       "      <td>83</td>\n",
       "      <td>1</td>\n",
       "    </tr>\n",
       "  </tbody>\n",
       "</table>\n",
       "<p>200 rows × 4 columns</p>\n",
       "</div>"
      ],
      "text/plain": [
       "     Age  Annual Income (k$)  Spending Score (1-100)  cluster\n",
       "0     19                  15                      39        0\n",
       "1     21                  15                      81        3\n",
       "2     20                  16                       6        0\n",
       "3     23                  16                      77        3\n",
       "4     31                  17                      40        0\n",
       "..   ...                 ...                     ...      ...\n",
       "195   35                 120                      79        1\n",
       "196   45                 126                      28        5\n",
       "197   32                 126                      74        1\n",
       "198   32                 137                      18        5\n",
       "199   30                 137                      83        1\n",
       "\n",
       "[200 rows x 4 columns]"
      ]
     },
     "execution_count": 15,
     "metadata": {},
     "output_type": "execute_result"
    }
   ],
   "source": [
    "zephyr7b['cluster']=y_means\n",
    "\n",
    "zephyr7b"
   ]
  },
  {
   "cell_type": "code",
   "execution_count": 16,
   "id": "d588e12b",
   "metadata": {
    "execution": {
     "iopub.execute_input": "2024-01-31T03:08:22.036148Z",
     "iopub.status.busy": "2024-01-31T03:08:22.035807Z",
     "iopub.status.idle": "2024-01-31T03:08:22.043475Z",
     "shell.execute_reply": "2024-01-31T03:08:22.042047Z"
    },
    "papermill": {
     "duration": 0.020641,
     "end_time": "2024-01-31T03:08:22.045851",
     "exception": false,
     "start_time": "2024-01-31T03:08:22.025210",
     "status": "completed"
    },
    "tags": []
   },
   "outputs": [
    {
     "data": {
      "text/plain": [
       "Age                       0\n",
       "Annual Income (k$)        0\n",
       "Spending Score (1-100)    0\n",
       "cluster                   0\n",
       "dtype: int64"
      ]
     },
     "execution_count": 16,
     "metadata": {},
     "output_type": "execute_result"
    }
   ],
   "source": [
    "zephyr7b.isna().sum()"
   ]
  },
  {
   "cell_type": "code",
   "execution_count": 17,
   "id": "326070d6",
   "metadata": {
    "execution": {
     "iopub.execute_input": "2024-01-31T03:08:22.064209Z",
     "iopub.status.busy": "2024-01-31T03:08:22.063472Z",
     "iopub.status.idle": "2024-01-31T03:08:22.072882Z",
     "shell.execute_reply": "2024-01-31T03:08:22.070940Z"
    },
    "papermill": {
     "duration": 0.020883,
     "end_time": "2024-01-31T03:08:22.075143",
     "exception": false,
     "start_time": "2024-01-31T03:08:22.054260",
     "status": "completed"
    },
    "tags": []
   },
   "outputs": [
    {
     "data": {
      "text/plain": [
       "Age                       int64\n",
       "Annual Income (k$)        int64\n",
       "Spending Score (1-100)    int64\n",
       "cluster                   int32\n",
       "dtype: object"
      ]
     },
     "execution_count": 17,
     "metadata": {},
     "output_type": "execute_result"
    }
   ],
   "source": [
    "zephyr7b.dtypes"
   ]
  },
  {
   "cell_type": "code",
   "execution_count": 18,
   "id": "b92ecad2",
   "metadata": {
    "execution": {
     "iopub.execute_input": "2024-01-31T03:08:22.095619Z",
     "iopub.status.busy": "2024-01-31T03:08:22.094787Z",
     "iopub.status.idle": "2024-01-31T03:08:22.105736Z",
     "shell.execute_reply": "2024-01-31T03:08:22.105072Z"
    },
    "papermill": {
     "duration": 0.023446,
     "end_time": "2024-01-31T03:08:22.107947",
     "exception": false,
     "start_time": "2024-01-31T03:08:22.084501",
     "status": "completed"
    },
    "tags": []
   },
   "outputs": [
    {
     "data": {
      "text/html": [
       "<div>\n",
       "<style scoped>\n",
       "    .dataframe tbody tr th:only-of-type {\n",
       "        vertical-align: middle;\n",
       "    }\n",
       "\n",
       "    .dataframe tbody tr th {\n",
       "        vertical-align: top;\n",
       "    }\n",
       "\n",
       "    .dataframe thead th {\n",
       "        text-align: right;\n",
       "    }\n",
       "</style>\n",
       "<table border=\"1\" class=\"dataframe\">\n",
       "  <thead>\n",
       "    <tr style=\"text-align: right;\">\n",
       "      <th></th>\n",
       "      <th>Age</th>\n",
       "      <th>Annual Income (k$)</th>\n",
       "      <th>Spending Score (1-100)</th>\n",
       "    </tr>\n",
       "  </thead>\n",
       "  <tbody>\n",
       "    <tr>\n",
       "      <th>169</th>\n",
       "      <td>32</td>\n",
       "      <td>87</td>\n",
       "      <td>63</td>\n",
       "    </tr>\n",
       "    <tr>\n",
       "      <th>97</th>\n",
       "      <td>27</td>\n",
       "      <td>60</td>\n",
       "      <td>50</td>\n",
       "    </tr>\n",
       "    <tr>\n",
       "      <th>31</th>\n",
       "      <td>21</td>\n",
       "      <td>30</td>\n",
       "      <td>73</td>\n",
       "    </tr>\n",
       "    <tr>\n",
       "      <th>12</th>\n",
       "      <td>58</td>\n",
       "      <td>20</td>\n",
       "      <td>15</td>\n",
       "    </tr>\n",
       "    <tr>\n",
       "      <th>35</th>\n",
       "      <td>21</td>\n",
       "      <td>33</td>\n",
       "      <td>81</td>\n",
       "    </tr>\n",
       "    <tr>\n",
       "      <th>...</th>\n",
       "      <td>...</td>\n",
       "      <td>...</td>\n",
       "      <td>...</td>\n",
       "    </tr>\n",
       "    <tr>\n",
       "      <th>106</th>\n",
       "      <td>66</td>\n",
       "      <td>63</td>\n",
       "      <td>50</td>\n",
       "    </tr>\n",
       "    <tr>\n",
       "      <th>14</th>\n",
       "      <td>37</td>\n",
       "      <td>20</td>\n",
       "      <td>13</td>\n",
       "    </tr>\n",
       "    <tr>\n",
       "      <th>92</th>\n",
       "      <td>48</td>\n",
       "      <td>60</td>\n",
       "      <td>49</td>\n",
       "    </tr>\n",
       "    <tr>\n",
       "      <th>179</th>\n",
       "      <td>35</td>\n",
       "      <td>93</td>\n",
       "      <td>90</td>\n",
       "    </tr>\n",
       "    <tr>\n",
       "      <th>102</th>\n",
       "      <td>67</td>\n",
       "      <td>62</td>\n",
       "      <td>59</td>\n",
       "    </tr>\n",
       "  </tbody>\n",
       "</table>\n",
       "<p>140 rows × 3 columns</p>\n",
       "</div>"
      ],
      "text/plain": [
       "     Age  Annual Income (k$)  Spending Score (1-100)\n",
       "169   32                  87                      63\n",
       "97    27                  60                      50\n",
       "31    21                  30                      73\n",
       "12    58                  20                      15\n",
       "35    21                  33                      81\n",
       "..   ...                 ...                     ...\n",
       "106   66                  63                      50\n",
       "14    37                  20                      13\n",
       "92    48                  60                      49\n",
       "179   35                  93                      90\n",
       "102   67                  62                      59\n",
       "\n",
       "[140 rows x 3 columns]"
      ]
     },
     "execution_count": 18,
     "metadata": {},
     "output_type": "execute_result"
    }
   ],
   "source": [
    "from sklearn.model_selection import train_test_split\n",
    "\n",
    "train_x,test_x,train_y,test_y= train_test_split(x,y_means,test_size = 0.3,random_state = 42)\n",
    "\n",
    "train_x"
   ]
  },
  {
   "cell_type": "code",
   "execution_count": 19,
   "id": "d6729463",
   "metadata": {
    "execution": {
     "iopub.execute_input": "2024-01-31T03:08:22.127477Z",
     "iopub.status.busy": "2024-01-31T03:08:22.126339Z",
     "iopub.status.idle": "2024-01-31T03:08:22.141337Z",
     "shell.execute_reply": "2024-01-31T03:08:22.140353Z"
    },
    "papermill": {
     "duration": 0.026836,
     "end_time": "2024-01-31T03:08:22.143330",
     "exception": false,
     "start_time": "2024-01-31T03:08:22.116494",
     "status": "completed"
    },
    "tags": []
   },
   "outputs": [
    {
     "data": {
      "text/plain": [
       "array([[-0.47625237,  0.98322099,  0.4438231 ],\n",
       "       [-0.83128609, -0.01051573, -0.05203819],\n",
       "       [-1.25732655, -1.11466765,  0.82525485],\n",
       "       [ 1.36992295, -1.48271829, -1.38704935],\n",
       "       [-1.25732655, -1.00425246,  1.13040026],\n",
       "       [ 0.80186901,  0.24711972,  0.21496404],\n",
       "       [ 0.65985552, -0.78342208, -0.58604265],\n",
       "       [-0.1922254 ,  1.57210202,  1.28297297],\n",
       "       [ 2.07999038, -0.0473208 ,  0.13867769],\n",
       "       [ 0.37582855,  0.4679501 , -1.69219475],\n",
       "       [-0.40524563, -0.67300688,  0.32939357],\n",
       "       [ 0.09180158,  0.39433997,  1.66440472],\n",
       "       [-1.39934003,  0.76239061, -1.7684811 ],\n",
       "       [-1.04430632, -0.82022714,  1.5499752 ],\n",
       "       [ 0.87287575,  0.24711972, -0.31904042],\n",
       "       [-1.39934003,  0.13670452, -0.20461089],\n",
       "       [ 0.44683529, -1.18827778, -0.73861536],\n",
       "       [-0.26323214,  0.50475516,  0.78711168],\n",
       "       [-1.11531306,  0.0630944 , -0.39532677],\n",
       "       [-1.39934003,  0.09989946,  0.10053451],\n",
       "       [-1.32833329, -1.62993855, -1.73033793],\n",
       "       [ 0.09180158, -0.23134612, -0.12832454],\n",
       "       [ 0.80186901, -0.74661701,  0.13867769],\n",
       "       [-0.76027934,  1.49849189,  0.63453898],\n",
       "       [-0.47625237,  1.57210202,  0.67268215],\n",
       "       [ 0.65985552, -0.23134612, -0.20461089],\n",
       "       [-0.6892726 ,  0.68878048,  1.20668661],\n",
       "       [ 0.23381506, -0.9674474 , -1.31076299],\n",
       "       [-0.33423888,  1.57210202, -1.08190394],\n",
       "       [-1.39934003, -0.52578663,  0.13867769],\n",
       "       [ 0.51784203, -1.29869297, -1.7684811 ],\n",
       "       [-0.47625237,  0.54156023,  1.58811837],\n",
       "       [ 0.73086226,  0.0630944 , -0.12832454],\n",
       "       [-1.47034677, -1.00425246,  1.5499752 ],\n",
       "       [-0.26323214, -1.51952335,  1.81697743],\n",
       "       [ 0.58884878,  2.1977881 , -1.34890617],\n",
       "       [-0.61826586,  0.65197542,  0.82525485],\n",
       "       [-0.26323214, -1.55632842, -1.73033793],\n",
       "       [-0.26323214, -1.18827778,  0.36753674],\n",
       "       [-0.83128609,  0.24711972,  0.17682087],\n",
       "       [-0.54725911, -1.59313348, -0.43346995],\n",
       "       [ 1.01488924, -1.00425246, -1.80662428],\n",
       "       [-0.76027934,  0.57836529, -0.43346995],\n",
       "       [-0.76027934,  0.61517035,  1.74069108],\n",
       "       [ 1.9379769 ,  0.09989946, -0.12832454],\n",
       "       [-0.97329957,  0.61517035, -1.50147887],\n",
       "       [ 2.00898364, -1.51952335, -1.42519252],\n",
       "       [ 2.00898364, -0.48898156,  0.02424816],\n",
       "       [-0.05021191,  0.13670452, -0.3571836 ],\n",
       "       [ 0.65985552,  0.61517035, -0.58604265],\n",
       "       [ 0.23381506,  0.94641593, -1.19633347],\n",
       "       [-1.39934003, -1.66674361, -0.47161312],\n",
       "       [-0.47625237,  2.82347419, -1.27261982],\n",
       "       [-0.05021191,  0.65197542,  0.93968438],\n",
       "       [ 2.22200387, -0.41537144,  0.13867769],\n",
       "       [ 0.02079483,  0.32072984,  1.51183202],\n",
       "       [ 1.72495667, -0.4521765 , -0.01389501],\n",
       "       [ 0.73086226, -0.78342208, -0.89118806],\n",
       "       [-0.54725911,  0.76239061,  1.58811837],\n",
       "       [ 0.09180158, -1.15147272, -0.77675853],\n",
       "       [ 1.86697015, -0.82022714, -0.62418583],\n",
       "       [ 2.07999038,  0.09989946, -0.31904042],\n",
       "       [-0.83128609,  0.65197542,  1.43554567],\n",
       "       [-0.12121865,  0.65197542, -1.92105381],\n",
       "       [-0.6892726 , -1.18827778,  1.16854344],\n",
       "       [-0.54725911, -1.29869297,  0.82525485],\n",
       "       [ 0.16280832,  1.42488176, -0.47161312],\n",
       "       [-0.47625237,  0.61517035,  0.86339803],\n",
       "       [-0.05021191, -0.23134612,  0.13867769],\n",
       "       [-1.32833329, -0.8570322 ,  0.90154121],\n",
       "       [-0.1922254 ,  0.98322099, -0.92933123],\n",
       "       [-0.83128609, -0.74661701, -0.16646772],\n",
       "       [-0.47625237, -0.01051573, -0.3571836 ],\n",
       "       [ 0.58884878,  0.65197542, -1.34890617],\n",
       "       [-0.54725911, -0.78342208,  0.36753674],\n",
       "       [-1.39934003,  0.50475516, -1.57776522],\n",
       "       [-1.11531306, -1.62993855,  0.97782756],\n",
       "       [-1.25732655,  0.0630944 , -0.3571836 ],\n",
       "       [ 1.4409297 , -0.63620182,  0.32939357],\n",
       "       [-0.54725911,  0.43114503,  0.7489685 ],\n",
       "       [-0.12121865,  1.35127163, -0.73861536],\n",
       "       [ 1.4409297 ,  1.20405138, -1.42519252],\n",
       "       [-0.61826586,  1.42488176,  1.74069108],\n",
       "       [-0.54725911, -0.74661701, -0.3571836 ],\n",
       "       [ 1.29891621, -0.23134612, -0.01389501],\n",
       "       [ 0.73086226, -1.00425246, -1.42519252],\n",
       "       [-1.11531306, -1.55632842,  1.62626155],\n",
       "       [ 1.86697015,  0.09989946,  0.02424816],\n",
       "       [-1.47034677, -0.0473208 , -0.39532677],\n",
       "       [ 0.51784203, -0.23134612, -0.28089725],\n",
       "       [ 1.36992295,  1.02002606, -1.38704935],\n",
       "       [-0.47625237,  1.35127163,  1.32111614],\n",
       "       [ 0.80186901, -0.08412586, -0.20461089],\n",
       "       [ 1.79596341, -1.51952335, -1.84476746],\n",
       "       [-1.04430632, -1.48271829,  0.97782756],\n",
       "       [ 1.01488924, -0.52578663, -0.20461089],\n",
       "       [-0.76027934,  0.98322099,  0.90154121],\n",
       "       [ 0.02079483,  0.39433997,  0.90154121],\n",
       "       [-1.32833329, -1.44591323,  0.55825262],\n",
       "       [ 1.51193644, -0.37856637, -0.09018137],\n",
       "       [-0.61826586,  1.02002606,  1.32111614],\n",
       "       [-1.32833329,  0.4679501 , -1.7684811 ],\n",
       "       [-0.40524563,  0.94641593,  1.66440472],\n",
       "       [-0.6892726 ,  1.3880767 ,  1.39740249],\n",
       "       [ 1.08589598, -0.48898156,  0.29125039],\n",
       "       [ 0.80186901, -0.63620182, -0.24275407],\n",
       "       [ 1.08589598,  0.09989946, -0.20461089],\n",
       "       [ 0.73086226, -0.67300688,  0.02424816],\n",
       "       [ 0.44683529,  2.41861849, -0.89118806],\n",
       "       [-0.83128609, -0.52578663, -0.01389501],\n",
       "       [-0.6892726 , -0.74661701, -0.3571836 ],\n",
       "       [-0.33423888, -0.08412586,  0.32939357],\n",
       "       [-0.97329957, -1.33549803,  0.82525485],\n",
       "       [ 2.15099713, -0.59939676, -0.20461089],\n",
       "       [ 1.22790947,  0.68878048, -0.62418583],\n",
       "       [-0.40524563,  1.94015266, -1.65405158],\n",
       "       [-0.05021191,  0.39433997,  0.90154121],\n",
       "       [-0.61826586, -0.9674474 ,  0.82525485],\n",
       "       [-0.61826586,  0.65197542,  1.01597073],\n",
       "       [-0.05021191,  1.94015266,  1.51183202],\n",
       "       [-1.25732655, -1.66674361,  1.13040026],\n",
       "       [-0.54725911, -0.63620182,  0.10053451],\n",
       "       [-0.33423888,  0.65197542,  1.47368884],\n",
       "       [ 0.58884878,  0.39433997, -1.6159084 ],\n",
       "       [ 0.02079483,  0.65197542,  1.39740249],\n",
       "       [-0.90229283,  0.0630944 ,  0.13867769],\n",
       "       [-1.32833329,  0.02628933, -0.09018137],\n",
       "       [ 1.72495667,  0.17350959, -0.31904042],\n",
       "       [-1.1863198 , -0.12093092,  0.13867769],\n",
       "       [ 1.4409297 , -0.23134612, -0.16646772],\n",
       "       [-0.05021191,  0.24711972, -0.43346995],\n",
       "       [-0.61826586,  2.82347419,  1.20668661],\n",
       "       [-0.26323214, -1.33549803, -0.62418583],\n",
       "       [ 0.16280832,  1.57210202, -1.31076299],\n",
       "       [ 0.58884878, -0.41537144, -0.3571836 ],\n",
       "       [ 1.9379769 ,  0.09989946, -0.05203819],\n",
       "       [-0.12121865, -1.48271829, -1.4633357 ],\n",
       "       [ 0.65985552, -0.01051573, -0.09018137],\n",
       "       [-0.26323214,  1.20405138,  1.47368884],\n",
       "       [ 2.00898364,  0.0630944 ,  0.29125039]])"
      ]
     },
     "execution_count": 19,
     "metadata": {},
     "output_type": "execute_result"
    }
   ],
   "source": [
    "from sklearn.preprocessing import StandardScaler\n",
    "\n",
    "scaler = StandardScaler()\n",
    "\n",
    "scaler.fit(train_x)\n",
    "\n",
    "train_x = scaler.transform(train_x)\n",
    "\n",
    "test_x = scaler.transform(test_x)\n",
    "\n",
    "train_x"
   ]
  },
  {
   "cell_type": "code",
   "execution_count": 20,
   "id": "653b56e5",
   "metadata": {
    "execution": {
     "iopub.execute_input": "2024-01-31T03:08:22.162568Z",
     "iopub.status.busy": "2024-01-31T03:08:22.162007Z",
     "iopub.status.idle": "2024-01-31T03:08:22.175232Z",
     "shell.execute_reply": "2024-01-31T03:08:22.174448Z"
    },
    "papermill": {
     "duration": 0.024711,
     "end_time": "2024-01-31T03:08:22.176914",
     "exception": false,
     "start_time": "2024-01-31T03:08:22.152203",
     "status": "completed"
    },
    "tags": []
   },
   "outputs": [
    {
     "data": {
      "text/plain": [
       "array([4, 3, 0, 5, 5, 4, 4, 5, 5, 3, 2, 5, 1, 4, 5, 1, 2, 5, 2, 4, 4, 0,\n",
       "       5, 4, 4, 2, 4, 2, 1, 4, 3, 0, 2, 4, 5, 2, 1, 1, 5, 2, 2, 1, 0, 0,\n",
       "       4, 1, 3, 3, 1, 2, 4, 1, 3, 2, 2, 2, 5, 2, 5, 2], dtype=int32)"
      ]
     },
     "execution_count": 20,
     "metadata": {},
     "output_type": "execute_result"
    }
   ],
   "source": [
    "from sklearn.neighbors import KNeighborsClassifier\n",
    "\n",
    "gemini = KNeighborsClassifier(n_neighbors=7)\n",
    "\n",
    "gemini.fit(train_x,train_y)\n",
    "\n",
    "turbo = gemini.predict(test_x)\n",
    "\n",
    "turbo"
   ]
  },
  {
   "cell_type": "code",
   "execution_count": 21,
   "id": "8e024b3b",
   "metadata": {
    "execution": {
     "iopub.execute_input": "2024-01-31T03:08:22.195916Z",
     "iopub.status.busy": "2024-01-31T03:08:22.195321Z",
     "iopub.status.idle": "2024-01-31T03:08:22.201646Z",
     "shell.execute_reply": "2024-01-31T03:08:22.200595Z"
    },
    "papermill": {
     "duration": 0.018004,
     "end_time": "2024-01-31T03:08:22.203526",
     "exception": false,
     "start_time": "2024-01-31T03:08:22.185522",
     "status": "completed"
    },
    "tags": []
   },
   "outputs": [
    {
     "data": {
      "text/plain": [
       "array([4, 3, 0, 5, 5, 4, 4, 5, 5, 3, 2, 5, 1, 4, 5, 1, 2, 5, 2, 4, 4, 0,\n",
       "       5, 4, 4, 2, 4, 2, 1, 4, 3, 0, 2, 4, 5, 2, 1, 1, 5, 2, 2, 1, 0, 0,\n",
       "       4, 1, 3, 3, 1, 2, 4, 1, 3, 5, 2, 2, 5, 2, 5, 2], dtype=int32)"
      ]
     },
     "execution_count": 21,
     "metadata": {},
     "output_type": "execute_result"
    }
   ],
   "source": [
    "test_y"
   ]
  },
  {
   "cell_type": "code",
   "execution_count": 22,
   "id": "b6130de3",
   "metadata": {
    "execution": {
     "iopub.execute_input": "2024-01-31T03:08:22.223535Z",
     "iopub.status.busy": "2024-01-31T03:08:22.222943Z",
     "iopub.status.idle": "2024-01-31T03:08:22.231876Z",
     "shell.execute_reply": "2024-01-31T03:08:22.230705Z"
    },
    "papermill": {
     "duration": 0.02188,
     "end_time": "2024-01-31T03:08:22.234575",
     "exception": false,
     "start_time": "2024-01-31T03:08:22.212695",
     "status": "completed"
    },
    "tags": []
   },
   "outputs": [
    {
     "name": "stdout",
     "output_type": "stream",
     "text": [
      "[[ 5  0  0  0  0  0]\n",
      " [ 0  9  0  0  0  0]\n",
      " [ 0  0 14  0  0  0]\n",
      " [ 0  0  0  6  0  0]\n",
      " [ 0  0  0  0 13  0]\n",
      " [ 0  0  1  0  0 12]]\n"
     ]
    },
    {
     "data": {
      "text/plain": [
       "0.9833333333333333"
      ]
     },
     "execution_count": 22,
     "metadata": {},
     "output_type": "execute_result"
    }
   ],
   "source": [
    "from sklearn.metrics import confusion_matrix, accuracy_score\n",
    "\n",
    "scala = confusion_matrix(test_y,turbo)\n",
    "\n",
    "score = accuracy_score(test_y,turbo)\n",
    "\n",
    "print(scala)\n",
    "\n",
    "score\n"
   ]
  },
  {
   "cell_type": "code",
   "execution_count": 23,
   "id": "babdaec5",
   "metadata": {
    "execution": {
     "iopub.execute_input": "2024-01-31T03:08:22.255167Z",
     "iopub.status.busy": "2024-01-31T03:08:22.254819Z",
     "iopub.status.idle": "2024-01-31T03:08:22.269030Z",
     "shell.execute_reply": "2024-01-31T03:08:22.267830Z"
    },
    "papermill": {
     "duration": 0.02695,
     "end_time": "2024-01-31T03:08:22.271001",
     "exception": false,
     "start_time": "2024-01-31T03:08:22.244051",
     "status": "completed"
    },
    "tags": []
   },
   "outputs": [
    {
     "name": "stdout",
     "output_type": "stream",
     "text": [
      "              precision    recall  f1-score   support\n",
      "\n",
      "           0       1.00      1.00      1.00         5\n",
      "           1       1.00      1.00      1.00         9\n",
      "           2       0.93      1.00      0.97        14\n",
      "           3       1.00      1.00      1.00         6\n",
      "           4       1.00      1.00      1.00        13\n",
      "           5       1.00      0.92      0.96        13\n",
      "\n",
      "    accuracy                           0.98        60\n",
      "   macro avg       0.99      0.99      0.99        60\n",
      "weighted avg       0.98      0.98      0.98        60\n",
      "\n"
     ]
    }
   ],
   "source": [
    "from sklearn.metrics import classification_report\n",
    "\n",
    "print(classification_report(test_y,turbo))"
   ]
  },
  {
   "cell_type": "code",
   "execution_count": 24,
   "id": "685b4e99",
   "metadata": {
    "execution": {
     "iopub.execute_input": "2024-01-31T03:08:22.289992Z",
     "iopub.status.busy": "2024-01-31T03:08:22.289632Z",
     "iopub.status.idle": "2024-01-31T03:08:22.300446Z",
     "shell.execute_reply": "2024-01-31T03:08:22.299268Z"
    },
    "papermill": {
     "duration": 0.022393,
     "end_time": "2024-01-31T03:08:22.302051",
     "exception": false,
     "start_time": "2024-01-31T03:08:22.279658",
     "status": "completed"
    },
    "tags": []
   },
   "outputs": [
    {
     "data": {
      "text/html": [
       "<div>\n",
       "<style scoped>\n",
       "    .dataframe tbody tr th:only-of-type {\n",
       "        vertical-align: middle;\n",
       "    }\n",
       "\n",
       "    .dataframe tbody tr th {\n",
       "        vertical-align: top;\n",
       "    }\n",
       "\n",
       "    .dataframe thead th {\n",
       "        text-align: right;\n",
       "    }\n",
       "</style>\n",
       "<table border=\"1\" class=\"dataframe\">\n",
       "  <thead>\n",
       "    <tr style=\"text-align: right;\">\n",
       "      <th></th>\n",
       "      <th>Age</th>\n",
       "      <th>Annual Income (k$)</th>\n",
       "      <th>Spending Score (1-100)</th>\n",
       "      <th>cluster</th>\n",
       "    </tr>\n",
       "  </thead>\n",
       "  <tbody>\n",
       "    <tr>\n",
       "      <th>0</th>\n",
       "      <td>19</td>\n",
       "      <td>15</td>\n",
       "      <td>39</td>\n",
       "      <td>0</td>\n",
       "    </tr>\n",
       "    <tr>\n",
       "      <th>1</th>\n",
       "      <td>21</td>\n",
       "      <td>15</td>\n",
       "      <td>81</td>\n",
       "      <td>3</td>\n",
       "    </tr>\n",
       "    <tr>\n",
       "      <th>2</th>\n",
       "      <td>20</td>\n",
       "      <td>16</td>\n",
       "      <td>6</td>\n",
       "      <td>0</td>\n",
       "    </tr>\n",
       "    <tr>\n",
       "      <th>3</th>\n",
       "      <td>23</td>\n",
       "      <td>16</td>\n",
       "      <td>77</td>\n",
       "      <td>3</td>\n",
       "    </tr>\n",
       "    <tr>\n",
       "      <th>4</th>\n",
       "      <td>31</td>\n",
       "      <td>17</td>\n",
       "      <td>40</td>\n",
       "      <td>0</td>\n",
       "    </tr>\n",
       "    <tr>\n",
       "      <th>...</th>\n",
       "      <td>...</td>\n",
       "      <td>...</td>\n",
       "      <td>...</td>\n",
       "      <td>...</td>\n",
       "    </tr>\n",
       "    <tr>\n",
       "      <th>195</th>\n",
       "      <td>35</td>\n",
       "      <td>120</td>\n",
       "      <td>79</td>\n",
       "      <td>1</td>\n",
       "    </tr>\n",
       "    <tr>\n",
       "      <th>196</th>\n",
       "      <td>45</td>\n",
       "      <td>126</td>\n",
       "      <td>28</td>\n",
       "      <td>5</td>\n",
       "    </tr>\n",
       "    <tr>\n",
       "      <th>197</th>\n",
       "      <td>32</td>\n",
       "      <td>126</td>\n",
       "      <td>74</td>\n",
       "      <td>1</td>\n",
       "    </tr>\n",
       "    <tr>\n",
       "      <th>198</th>\n",
       "      <td>32</td>\n",
       "      <td>137</td>\n",
       "      <td>18</td>\n",
       "      <td>5</td>\n",
       "    </tr>\n",
       "    <tr>\n",
       "      <th>199</th>\n",
       "      <td>30</td>\n",
       "      <td>137</td>\n",
       "      <td>83</td>\n",
       "      <td>1</td>\n",
       "    </tr>\n",
       "  </tbody>\n",
       "</table>\n",
       "<p>200 rows × 4 columns</p>\n",
       "</div>"
      ],
      "text/plain": [
       "     Age  Annual Income (k$)  Spending Score (1-100)  cluster\n",
       "0     19                  15                      39        0\n",
       "1     21                  15                      81        3\n",
       "2     20                  16                       6        0\n",
       "3     23                  16                      77        3\n",
       "4     31                  17                      40        0\n",
       "..   ...                 ...                     ...      ...\n",
       "195   35                 120                      79        1\n",
       "196   45                 126                      28        5\n",
       "197   32                 126                      74        1\n",
       "198   32                 137                      18        5\n",
       "199   30                 137                      83        1\n",
       "\n",
       "[200 rows x 4 columns]"
      ]
     },
     "execution_count": 24,
     "metadata": {},
     "output_type": "execute_result"
    }
   ],
   "source": [
    "zephyr7b"
   ]
  },
  {
   "cell_type": "code",
   "execution_count": 25,
   "id": "803197fa",
   "metadata": {
    "execution": {
     "iopub.execute_input": "2024-01-31T03:08:22.322115Z",
     "iopub.status.busy": "2024-01-31T03:08:22.321387Z",
     "iopub.status.idle": "2024-01-31T03:08:22.940422Z",
     "shell.execute_reply": "2024-01-31T03:08:22.938866Z"
    },
    "papermill": {
     "duration": 0.631094,
     "end_time": "2024-01-31T03:08:22.942161",
     "exception": true,
     "start_time": "2024-01-31T03:08:22.311067",
     "status": "failed"
    },
    "tags": []
   },
   "outputs": [
    {
     "ename": "ValueError",
     "evalue": "X has 4 features, but StandardScaler is expecting 3 features as input.",
     "output_type": "error",
     "traceback": [
      "\u001b[0;31m---------------------------------------------------------------------------\u001b[0m",
      "\u001b[0;31mValueError\u001b[0m                                Traceback (most recent call last)",
      "Cell \u001b[0;32mIn[25], line 1\u001b[0m\n\u001b[0;32m----> 1\u001b[0m prediction \u001b[38;5;241m=\u001b[39m gemini\u001b[38;5;241m.\u001b[39mpredict(\u001b[43mscaler\u001b[49m\u001b[38;5;241;43m.\u001b[39;49m\u001b[43mtransform\u001b[49m\u001b[43m(\u001b[49m\u001b[43m[\u001b[49m\u001b[43m[\u001b[49m\u001b[38;5;241;43m19\u001b[39;49m\u001b[43m,\u001b[49m\u001b[38;5;241;43m130\u001b[39;49m\u001b[43m,\u001b[49m\u001b[38;5;241;43m70\u001b[39;49m\u001b[43m,\u001b[49m\u001b[38;5;241;43m1\u001b[39;49m\u001b[43m]\u001b[49m\u001b[43m]\u001b[49m\u001b[43m)\u001b[49m)\n\u001b[1;32m      3\u001b[0m prediction\n",
      "File \u001b[0;32m/opt/conda/lib/python3.10/site-packages/sklearn/utils/_set_output.py:140\u001b[0m, in \u001b[0;36m_wrap_method_output.<locals>.wrapped\u001b[0;34m(self, X, *args, **kwargs)\u001b[0m\n\u001b[1;32m    138\u001b[0m \u001b[38;5;129m@wraps\u001b[39m(f)\n\u001b[1;32m    139\u001b[0m \u001b[38;5;28;01mdef\u001b[39;00m \u001b[38;5;21mwrapped\u001b[39m(\u001b[38;5;28mself\u001b[39m, X, \u001b[38;5;241m*\u001b[39margs, \u001b[38;5;241m*\u001b[39m\u001b[38;5;241m*\u001b[39mkwargs):\n\u001b[0;32m--> 140\u001b[0m     data_to_wrap \u001b[38;5;241m=\u001b[39m \u001b[43mf\u001b[49m\u001b[43m(\u001b[49m\u001b[38;5;28;43mself\u001b[39;49m\u001b[43m,\u001b[49m\u001b[43m \u001b[49m\u001b[43mX\u001b[49m\u001b[43m,\u001b[49m\u001b[43m \u001b[49m\u001b[38;5;241;43m*\u001b[39;49m\u001b[43margs\u001b[49m\u001b[43m,\u001b[49m\u001b[43m \u001b[49m\u001b[38;5;241;43m*\u001b[39;49m\u001b[38;5;241;43m*\u001b[39;49m\u001b[43mkwargs\u001b[49m\u001b[43m)\u001b[49m\n\u001b[1;32m    141\u001b[0m     \u001b[38;5;28;01mif\u001b[39;00m \u001b[38;5;28misinstance\u001b[39m(data_to_wrap, \u001b[38;5;28mtuple\u001b[39m):\n\u001b[1;32m    142\u001b[0m         \u001b[38;5;66;03m# only wrap the first output for cross decomposition\u001b[39;00m\n\u001b[1;32m    143\u001b[0m         \u001b[38;5;28;01mreturn\u001b[39;00m (\n\u001b[1;32m    144\u001b[0m             _wrap_data_with_container(method, data_to_wrap[\u001b[38;5;241m0\u001b[39m], X, \u001b[38;5;28mself\u001b[39m),\n\u001b[1;32m    145\u001b[0m             \u001b[38;5;241m*\u001b[39mdata_to_wrap[\u001b[38;5;241m1\u001b[39m:],\n\u001b[1;32m    146\u001b[0m         )\n",
      "File \u001b[0;32m/opt/conda/lib/python3.10/site-packages/sklearn/preprocessing/_data.py:992\u001b[0m, in \u001b[0;36mStandardScaler.transform\u001b[0;34m(self, X, copy)\u001b[0m\n\u001b[1;32m    989\u001b[0m check_is_fitted(\u001b[38;5;28mself\u001b[39m)\n\u001b[1;32m    991\u001b[0m copy \u001b[38;5;241m=\u001b[39m copy \u001b[38;5;28;01mif\u001b[39;00m copy \u001b[38;5;129;01mis\u001b[39;00m \u001b[38;5;129;01mnot\u001b[39;00m \u001b[38;5;28;01mNone\u001b[39;00m \u001b[38;5;28;01melse\u001b[39;00m \u001b[38;5;28mself\u001b[39m\u001b[38;5;241m.\u001b[39mcopy\n\u001b[0;32m--> 992\u001b[0m X \u001b[38;5;241m=\u001b[39m \u001b[38;5;28;43mself\u001b[39;49m\u001b[38;5;241;43m.\u001b[39;49m\u001b[43m_validate_data\u001b[49m\u001b[43m(\u001b[49m\n\u001b[1;32m    993\u001b[0m \u001b[43m    \u001b[49m\u001b[43mX\u001b[49m\u001b[43m,\u001b[49m\n\u001b[1;32m    994\u001b[0m \u001b[43m    \u001b[49m\u001b[43mreset\u001b[49m\u001b[38;5;241;43m=\u001b[39;49m\u001b[38;5;28;43;01mFalse\u001b[39;49;00m\u001b[43m,\u001b[49m\n\u001b[1;32m    995\u001b[0m \u001b[43m    \u001b[49m\u001b[43maccept_sparse\u001b[49m\u001b[38;5;241;43m=\u001b[39;49m\u001b[38;5;124;43m\"\u001b[39;49m\u001b[38;5;124;43mcsr\u001b[39;49m\u001b[38;5;124;43m\"\u001b[39;49m\u001b[43m,\u001b[49m\n\u001b[1;32m    996\u001b[0m \u001b[43m    \u001b[49m\u001b[43mcopy\u001b[49m\u001b[38;5;241;43m=\u001b[39;49m\u001b[43mcopy\u001b[49m\u001b[43m,\u001b[49m\n\u001b[1;32m    997\u001b[0m \u001b[43m    \u001b[49m\u001b[43mdtype\u001b[49m\u001b[38;5;241;43m=\u001b[39;49m\u001b[43mFLOAT_DTYPES\u001b[49m\u001b[43m,\u001b[49m\n\u001b[1;32m    998\u001b[0m \u001b[43m    \u001b[49m\u001b[43mforce_all_finite\u001b[49m\u001b[38;5;241;43m=\u001b[39;49m\u001b[38;5;124;43m\"\u001b[39;49m\u001b[38;5;124;43mallow-nan\u001b[39;49m\u001b[38;5;124;43m\"\u001b[39;49m\u001b[43m,\u001b[49m\n\u001b[1;32m    999\u001b[0m \u001b[43m\u001b[49m\u001b[43m)\u001b[49m\n\u001b[1;32m   1001\u001b[0m \u001b[38;5;28;01mif\u001b[39;00m sparse\u001b[38;5;241m.\u001b[39missparse(X):\n\u001b[1;32m   1002\u001b[0m     \u001b[38;5;28;01mif\u001b[39;00m \u001b[38;5;28mself\u001b[39m\u001b[38;5;241m.\u001b[39mwith_mean:\n",
      "File \u001b[0;32m/opt/conda/lib/python3.10/site-packages/sklearn/base.py:588\u001b[0m, in \u001b[0;36mBaseEstimator._validate_data\u001b[0;34m(self, X, y, reset, validate_separately, **check_params)\u001b[0m\n\u001b[1;32m    585\u001b[0m     out \u001b[38;5;241m=\u001b[39m X, y\n\u001b[1;32m    587\u001b[0m \u001b[38;5;28;01mif\u001b[39;00m \u001b[38;5;129;01mnot\u001b[39;00m no_val_X \u001b[38;5;129;01mand\u001b[39;00m check_params\u001b[38;5;241m.\u001b[39mget(\u001b[38;5;124m\"\u001b[39m\u001b[38;5;124mensure_2d\u001b[39m\u001b[38;5;124m\"\u001b[39m, \u001b[38;5;28;01mTrue\u001b[39;00m):\n\u001b[0;32m--> 588\u001b[0m     \u001b[38;5;28;43mself\u001b[39;49m\u001b[38;5;241;43m.\u001b[39;49m\u001b[43m_check_n_features\u001b[49m\u001b[43m(\u001b[49m\u001b[43mX\u001b[49m\u001b[43m,\u001b[49m\u001b[43m \u001b[49m\u001b[43mreset\u001b[49m\u001b[38;5;241;43m=\u001b[39;49m\u001b[43mreset\u001b[49m\u001b[43m)\u001b[49m\n\u001b[1;32m    590\u001b[0m \u001b[38;5;28;01mreturn\u001b[39;00m out\n",
      "File \u001b[0;32m/opt/conda/lib/python3.10/site-packages/sklearn/base.py:389\u001b[0m, in \u001b[0;36mBaseEstimator._check_n_features\u001b[0;34m(self, X, reset)\u001b[0m\n\u001b[1;32m    386\u001b[0m     \u001b[38;5;28;01mreturn\u001b[39;00m\n\u001b[1;32m    388\u001b[0m \u001b[38;5;28;01mif\u001b[39;00m n_features \u001b[38;5;241m!=\u001b[39m \u001b[38;5;28mself\u001b[39m\u001b[38;5;241m.\u001b[39mn_features_in_:\n\u001b[0;32m--> 389\u001b[0m     \u001b[38;5;28;01mraise\u001b[39;00m \u001b[38;5;167;01mValueError\u001b[39;00m(\n\u001b[1;32m    390\u001b[0m         \u001b[38;5;124mf\u001b[39m\u001b[38;5;124m\"\u001b[39m\u001b[38;5;124mX has \u001b[39m\u001b[38;5;132;01m{\u001b[39;00mn_features\u001b[38;5;132;01m}\u001b[39;00m\u001b[38;5;124m features, but \u001b[39m\u001b[38;5;132;01m{\u001b[39;00m\u001b[38;5;28mself\u001b[39m\u001b[38;5;241m.\u001b[39m\u001b[38;5;18m__class__\u001b[39m\u001b[38;5;241m.\u001b[39m\u001b[38;5;18m__name__\u001b[39m\u001b[38;5;132;01m}\u001b[39;00m\u001b[38;5;124m \u001b[39m\u001b[38;5;124m\"\u001b[39m\n\u001b[1;32m    391\u001b[0m         \u001b[38;5;124mf\u001b[39m\u001b[38;5;124m\"\u001b[39m\u001b[38;5;124mis expecting \u001b[39m\u001b[38;5;132;01m{\u001b[39;00m\u001b[38;5;28mself\u001b[39m\u001b[38;5;241m.\u001b[39mn_features_in_\u001b[38;5;132;01m}\u001b[39;00m\u001b[38;5;124m features as input.\u001b[39m\u001b[38;5;124m\"\u001b[39m\n\u001b[1;32m    392\u001b[0m     )\n",
      "\u001b[0;31mValueError\u001b[0m: X has 4 features, but StandardScaler is expecting 3 features as input."
     ]
    }
   ],
   "source": [
    "prediction = gemini.predict(scaler.transform([[19,130,70,1]]))\n",
    "\n",
    "prediction"
   ]
  }
 ],
 "metadata": {
  "kaggle": {
   "accelerator": "none",
   "dataSources": [
    {
     "datasetId": 42674,
     "sourceId": 74935,
     "sourceType": "datasetVersion"
    }
   ],
   "dockerImageVersionId": 30646,
   "isGpuEnabled": false,
   "isInternetEnabled": true,
   "language": "python",
   "sourceType": "notebook"
  },
  "kernelspec": {
   "display_name": "Python 3",
   "language": "python",
   "name": "python3"
  },
  "language_info": {
   "codemirror_mode": {
    "name": "ipython",
    "version": 3
   },
   "file_extension": ".py",
   "mimetype": "text/x-python",
   "name": "python",
   "nbconvert_exporter": "python",
   "pygments_lexer": "ipython3",
   "version": "3.10.13"
  },
  "papermill": {
   "default_parameters": {},
   "duration": 8.231441,
   "end_time": "2024-01-31T03:08:23.674182",
   "environment_variables": {},
   "exception": true,
   "input_path": "__notebook__.ipynb",
   "output_path": "__notebook__.ipynb",
   "parameters": {},
   "start_time": "2024-01-31T03:08:15.442741",
   "version": "2.5.0"
  }
 },
 "nbformat": 4,
 "nbformat_minor": 5
}
